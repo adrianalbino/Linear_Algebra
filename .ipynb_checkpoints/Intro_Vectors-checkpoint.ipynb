{
 "cells": [
  {
   "cell_type": "markdown",
   "id": "c4fcef5f-b0a8-4da1-8e19-057f6ea5ee0a",
   "metadata": {},
   "source": [
    "1. Let u = (1, -2, 4) and v = (3, 5, 1) w = (2, 1, -3)\n",
    "Manual"
   ]
  },
  {
   "cell_type": "markdown",
   "id": "93e68929-1a96-4af0-bd45-a0f07457c56b",
   "metadata": {},
   "source": [
    "a. 3u - 2v  \n",
    "=  3u - 2v = 3(1, -2, 4) - 2(3, 5, 1)  \n",
    "=  (3, -6, 12) - (6, 10, 2)  \n",
    "= (-3, -16, 10)  \n",
    "\n",
    "b. 5u + 3v - 4w  \n",
    "=  5(1, -2, 4) + 3(3, 5, 1) - 4(2, 1, -3)  \n",
    "= (14, 5, 23) - (8, 4, -12)  \n",
    "= (6, 1, 35)  \n",
    "\n",
    "c. u · v, v · w, u · w  \n",
    "u · v = 1(3) - 2(5) + 4(1) = -3  \n",
    "v · w = 3(2) + 5(1) + 1(-3) = 8  \n",
    "u · w = 1(2) - 2(1) + 4(-3) = -12\n",
    "\n",
    "d. ||u||, ||v||, ||w||  \n",
    "||u|| = $\\sqrt{u · u}$ = $\\sqrt{1^{2}+(-2)^{2}+4^{2}}$ = $\\sqrt{21}$  \n",
    "||v|| = $\\sqrt{v · v}$ = $\\sqrt{3^{2}+5^{2}+1^{2}}$ = $\\sqrt{35}$\n",
    "||w|| = $\\sqrt{w · w}$ = $\\sqrt{2^{2}+1^{2}+(-3)^{2}}$ = $\\sqrt{14}$"
   ]
  }
 ],
 "metadata": {
  "kernelspec": {
   "display_name": "Python 3 (ipykernel)",
   "language": "python",
   "name": "python3"
  },
  "language_info": {
   "codemirror_mode": {
    "name": "ipython",
    "version": 3
   },
   "file_extension": ".py",
   "mimetype": "text/x-python",
   "name": "python",
   "nbconvert_exporter": "python",
   "pygments_lexer": "ipython3",
   "version": "3.9.1"
  }
 },
 "nbformat": 4,
 "nbformat_minor": 5
}
