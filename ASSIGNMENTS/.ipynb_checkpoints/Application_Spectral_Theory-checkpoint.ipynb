{
 "cells": [
  {
   "cell_type": "markdown",
   "id": "a57b61dc-180a-4a00-82df-fe6aaf1c997a",
   "metadata": {},
   "source": [
    "Assignment\n",
    "\n",
    "- Read about spectral clustering module in Python's Scikit Learn Package.\n",
    "\n",
    "- Choose a dataset from https://datasetsearch.research.google.com/.\n",
    "\n",
    "- Perform spectral clustering from your chosen dataset, derive conclusions from the result.\n",
    "\n",
    "- NOTE: You should have a different dataset from your classmates, otherwise both of you will recieve a failing grade.\n",
    "\n",
    "- Push your codes to your github account. "
   ]
  },
  {
   "cell_type": "markdown",
   "id": "78c24ebf-d99c-4e02-a691-44c755dd39cf",
   "metadata": {},
   "source": [
    "Dataset Used: https://www.kaggle.com/datasets/shilongzhuang/pizza-sales/"
   ]
  },
  {
   "cell_type": "code",
   "execution_count": null,
   "id": "fe682b99-03dd-4703-a53c-589524c70ba6",
   "metadata": {},
   "outputs": [],
   "source": [
    "import pandas as pd\n",
    "from sklearn.cluster import SpectralClustering\n",
    "from sklearn.preprocessing import StandardScaler, OneHotEncoder\n",
    "from sklearn.compose import ColumnTransformer\n",
    "from sklearn.decomposition import PCA\n",
    "import matplotlib.pyplot as plt\n",
    "\n",
    "# Load Your Dataset\n",
    "data = pd.read_csv('pizzaplace.csv')  # replace 'your_dataset.csv' with your file name\n",
    "\n",
    "# Preprocessing\n",
    "# One-hot encode categorical features\n",
    "categorical_features = ['size', 'type']\n",
    "categorical_transformer = OneHotEncoder()\n",
    "\n",
    "# Standardize the numerical features\n",
    "numeric_features = ['price']\n",
    "numeric_transformer = StandardScaler()\n",
    "\n",
    "preprocessor = ColumnTransformer(\n",
    "    transformers=[\n",
    "        ('cat', categorical_transformer, categorical_features),\n",
    "        ('num', numeric_transformer, numeric_features)])\n",
    "\n",
    "X = preprocessor.fit_transform(data)\n",
    "\n",
    "# Perform PCA for visualization (reducing to 2 dimensions)\n",
    "pca = PCA(n_components=2)\n",
    "X_pca = pca.fit_transform(X)\n",
    "\n",
    "# Perform Spectral Clustering with 'rbf' affinity\n",
    "spectral_model = SpectralClustering(n_clusters=4, affinity='rbf', random_state=42)\n",
    "cluster_labels = spectral_model.fit_predict(X_pca)\n",
    "\n",
    "# Add the cluster labels to your dataframe for analysis\n",
    "data['Cluster'] = cluster_labels\n",
    "\n",
    "# Visualize the clusters (using PCA components)\n",
    "plt.figure(figsize=(8, 6))\n",
    "plt.scatter(X_pca[:, 0], X_pca[:, 1], c=data['Cluster'], cmap='viridis')\n",
    "plt.title('Spectral Clustering Results')\n",
    "plt.xlabel('PCA Component 1')\n",
    "plt.ylabel('PCA Component 2')\n",
    "plt.colorbar(label='Cluster Label')\n",
    "plt.show()\n",
    "\n"
   ]
  },
  {
   "cell_type": "markdown",
   "id": "7c77ec45-33f2-462b-8323-f736564f9233",
   "metadata": {},
   "source": [
    "Eigenvector Centrality Assignment 1\n",
    "\n",
    "Given the following graph below, find it eigenvector centrality:"
   ]
  },
  {
   "cell_type": "code",
   "execution_count": null,
   "id": "e4c73542-e5ff-461a-9de6-ce9ab1201cce",
   "metadata": {},
   "outputs": [],
   "source": [
    "import matplotlib.pyplot as plt\n",
    "import networkx as nx\n",
    "\n",
    "G = nx.Graph()\n",
    "\n",
    "G.add_edge(\"a\", \"b\", weight=0.6)\n",
    "G.add_edge(\"a\", \"c\", weight=0.2)\n",
    "G.add_edge(\"c\", \"d\", weight=0.1)\n",
    "G.add_edge(\"c\", \"e\", weight=0.7)\n",
    "G.add_edge(\"c\", \"f\", weight=0.9)\n",
    "G.add_edge(\"a\", \"d\", weight=0.3)\n",
    "\n",
    "elarge = [(u, v) for (u, v, d) in G.edges(data=True) if d[\"weight\"] > 0.5]\n",
    "esmall = [(u, v) for (u, v, d) in G.edges(data=True) if d[\"weight\"] <= 0.5]\n",
    "\n",
    "pos = nx.spring_layout(G, seed=7)  # positions for all nodes - seed for reproducibility\n",
    "\n",
    "# nodes\n",
    "nx.draw_networkx_nodes(G, pos, node_size=700)\n",
    "\n",
    "# edges\n",
    "nx.draw_networkx_edges(G, pos, edgelist=elarge, width=6)\n",
    "nx.draw_networkx_edges(\n",
    "    G, pos, edgelist=esmall, width=6, alpha=0.5, edge_color=\"b\", style=\"dashed\"\n",
    ")\n",
    "\n",
    "# node labels\n",
    "nx.draw_networkx_labels(G, pos, font_size=20, font_family=\"sans-serif\")\n",
    "# edge weight labels\n",
    "edge_labels = nx.get_edge_attributes(G, \"weight\")\n",
    "nx.draw_networkx_edge_labels(G, pos, edge_labels)\n",
    "\n",
    "ax = plt.gca()\n",
    "ax.margins(0.08)\n",
    "plt.axis(\"off\")\n",
    "plt.tight_layout()\n",
    "plt.show()"
   ]
  },
  {
   "cell_type": "markdown",
   "id": "7d51c958-2481-4967-b155-09bdbc8312b0",
   "metadata": {},
   "source": [
    "Assignment 2\n",
    "\n",
    "Read about the application of network science\n",
    "\n",
    "1. https://medium.com/social-media-theories-ethics-and-analytics/network-analysis-from-social-media-data-with-networkx-13605d711590\n",
    "\n",
    "2. http://snap.stanford.edu/class/cs224w-2011/proj/tbower_Finalwriteup_v1.pdf\n",
    "\n",
    "3. Based on the readings provided; think about an interesting topic that you can find in Reddit (Not COVID-19, its already given in the reading material think of something else).\n",
    "\n",
    "4. On the topic of your choosing develop a hypothesis and conduct a social network analysis. Find the eigenvector centrality. Which of the nodes are central in terms of eigenvectors? Develop a conclusion from your hypothesis."
   ]
  },
  {
   "cell_type": "code",
   "execution_count": null,
   "id": "28d492b0-083e-416a-b6cf-37403c74b822",
   "metadata": {},
   "outputs": [],
   "source": []
  }
 ],
 "metadata": {
  "kernelspec": {
   "display_name": "Python 3 (ipykernel)",
   "language": "python",
   "name": "python3"
  },
  "language_info": {
   "codemirror_mode": {
    "name": "ipython",
    "version": 3
   },
   "file_extension": ".py",
   "mimetype": "text/x-python",
   "name": "python",
   "nbconvert_exporter": "python",
   "pygments_lexer": "ipython3",
   "version": "3.9.1"
  }
 },
 "nbformat": 4,
 "nbformat_minor": 5
}
